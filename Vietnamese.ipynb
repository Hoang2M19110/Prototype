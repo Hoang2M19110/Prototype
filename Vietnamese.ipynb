{
 "cells": [
  {
   "cell_type": "code",
   "execution_count": null,
   "metadata": {},
   "outputs": [],
   "source": [
    "from transformers import GPT2Tokenizer, GPT2LMHeadModel, pipeline\n",
    "import time, torch\n",
    "\n",
    "tokenizer = GPT2Tokenizer.from_pretrained('minhtoan/gpt2-finetune-vietnamese-news')\n",
    "model = GPT2LMHeadModel.from_pretrained('minhtoan/gpt2-finetune-vietnamese-news')\n",
    "\n",
    "\n",
    "\n",
    "text = \"\"\"\n",
    "iPhone là dòng điện thoại thông minh được sản xuất bởi Apple Inc. sử dụng hệ điều hành iOS di động của riêng Apple. Chiếc iPhone thế hệ đầu tiên được CEO Apple lúc bấy giờ là Steve Jobs công bố vào ngày 9 tháng 1 năm 2007. Kể từ đó, Apple đã phát hành các mẫu iPhone và cập nhật iOS mới hàng năm. Tính đến ngày 1 tháng 11 năm 2018, đã có hơn 2,2 tỷ chiếc iPhone được bán ra. Tính đến năm 2022, iPhone chiếm 15,6% thị phần điện thoại thông minh toàn cầu.[15]\n",
    "\n",
    "iPhone là chiếc điện thoại di động đầu tiên sử dụng công nghệ cảm ứng đa điểm[16] Kể từ khi ra mắt, iPhone đã có màn hình lớn hơn, quay video, khả năng chống nước và nhiều tính năng trợ năng. Cho đến iPhone 8 và 8 Plus, iPhone đều có một nút duy nhất trên bảng điều khiển phía trước với cảm biến vân tay Touch ID. Kể từ iPhone X, các mẫu iPhone đã chuyển sang thiết kế màn hình phía trước gần như không viền với nhận dạng khuôn mặt Face ID và chuyển đổi ứng dụng được kích hoạt bằng cử chỉ. Touch ID vẫn được sử dụng cho dòng iPhone SE giá rẻ.\n",
    "\"\"\"\n",
    "\n",
    "\n",
    "input_ids = tokenizer.encode(text, return_tensors='pt', max_length=512)\n",
    "\n",
    "\n"
   ]
  },
  {
   "cell_type": "code",
   "execution_count": null,
   "metadata": {},
   "outputs": [],
   "source": [
    "\n",
    "attention_mask = torch.ones_like(input_ids)"
   ]
  },
  {
   "cell_type": "code",
   "execution_count": null,
   "metadata": {},
   "outputs": [],
   "source": [
    "\n",
    "time_start = time.time()\n",
    "generator = pipeline(\"text-generation\", model=model, tokenizer=tokenizer,pad_token_id = 50256)\n",
    "generated_text = generator(text, max_length=256, num_beams=5, repetition_penalty=2.5, length_penalty=1.0, early_stopping=True)[0]['generated_text']\n",
    "\n",
    "print(f\"Summary: {generated_text}\")\n",
    "time_end = time.time()\n"
   ]
  },
  {
   "cell_type": "code",
   "execution_count": null,
   "metadata": {},
   "outputs": [],
   "source": [
    "\n",
    "print(f\"Time: {time_end - time_start}\")\n"
   ]
  },
  {
   "cell_type": "code",
   "execution_count": null,
   "metadata": {},
   "outputs": [],
   "source": []
  }
 ],
 "metadata": {
  "kernelspec": {
   "display_name": "base",
   "language": "python",
   "name": "python3"
  },
  "language_info": {
   "codemirror_mode": {
    "name": "ipython",
    "version": 3
   },
   "file_extension": ".py",
   "mimetype": "text/x-python",
   "name": "python",
   "nbconvert_exporter": "python",
   "pygments_lexer": "ipython3",
   "version": "3.10.9"
  }
 },
 "nbformat": 4,
 "nbformat_minor": 2
}
